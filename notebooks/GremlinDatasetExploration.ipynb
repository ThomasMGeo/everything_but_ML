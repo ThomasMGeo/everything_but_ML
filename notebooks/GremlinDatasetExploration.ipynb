{
 "cells": [
  {
   "cell_type": "markdown",
   "id": "970de5f3-dc62-421c-a376-2b9e4af463a5",
   "metadata": {},
   "source": [
    "## GREMLIN dataset"
   ]
  },
  {
   "cell_type": "markdown",
   "id": "559fef85-1cf3-4136-8e8e-ecc58bf4fda5",
   "metadata": {},
   "source": [
    "This dataset is from this link: https://mountainscholar.org/handle/10217/235392\n",
    "\n",
    "and licensed CC:BY for the most part.\n",
    "\n",
    "Paper on the UNEt they used is here: https://journals.ametsoc.org/view/journals/apme/60/1/jamc-d-20-0084.1.xml?tab_body=pdf"
   ]
  },
  {
   "cell_type": "code",
   "execution_count": 1,
   "id": "94bd4bd6-d596-404e-a3ec-3b484a86960d",
   "metadata": {},
   "outputs": [],
   "source": [
    "import xarray as xr #have to install the python netCDF reader as well\n",
    "import numpy as np\n",
    "\n",
    "import matplotlib.pyplot as plt"
   ]
  },
  {
   "cell_type": "code",
   "execution_count": 2,
   "id": "0c037a8e-135b-43ef-ba89-05c5461981ef",
   "metadata": {},
   "outputs": [
    {
     "name": "stdout",
     "output_type": "stream",
     "text": [
      "3.8.10\n"
     ]
    }
   ],
   "source": [
    "from platform import python_version\n",
    "\n",
    "print(python_version())"
   ]
  },
  {
   "cell_type": "markdown",
   "id": "f3d5f394-432d-4022-a685-751ff744bb7e",
   "metadata": {},
   "source": [
    "# Loading in the netCDF"
   ]
  },
  {
   "cell_type": "code",
   "execution_count": 3,
   "id": "1a40455c-ec5b-4847-b946-69a4cac872cc",
   "metadata": {},
   "outputs": [],
   "source": [
    "data = 'gremlin_conus2_dataset.nc'"
   ]
  },
  {
   "cell_type": "code",
   "execution_count": 4,
   "id": "4a48118c-728d-4b93-b84a-94c254d70298",
   "metadata": {},
   "outputs": [],
   "source": [
    "ds = xr.open_dataset(data)"
   ]
  },
  {
   "cell_type": "code",
   "execution_count": 5,
   "id": "b06fb77c-4e1f-4835-81f3-c308ef154eb4",
   "metadata": {},
   "outputs": [
    {
     "data": {
      "text/html": [
       "<div><svg style=\"position: absolute; width: 0; height: 0; overflow: hidden\">\n",
       "<defs>\n",
       "<symbol id=\"icon-database\" viewBox=\"0 0 32 32\">\n",
       "<path d=\"M16 0c-8.837 0-16 2.239-16 5v4c0 2.761 7.163 5 16 5s16-2.239 16-5v-4c0-2.761-7.163-5-16-5z\"></path>\n",
       "<path d=\"M16 17c-8.837 0-16-2.239-16-5v6c0 2.761 7.163 5 16 5s16-2.239 16-5v-6c0 2.761-7.163 5-16 5z\"></path>\n",
       "<path d=\"M16 26c-8.837 0-16-2.239-16-5v6c0 2.761 7.163 5 16 5s16-2.239 16-5v-6c0 2.761-7.163 5-16 5z\"></path>\n",
       "</symbol>\n",
       "<symbol id=\"icon-file-text2\" viewBox=\"0 0 32 32\">\n",
       "<path d=\"M28.681 7.159c-0.694-0.947-1.662-2.053-2.724-3.116s-2.169-2.030-3.116-2.724c-1.612-1.182-2.393-1.319-2.841-1.319h-15.5c-1.378 0-2.5 1.121-2.5 2.5v27c0 1.378 1.122 2.5 2.5 2.5h23c1.378 0 2.5-1.122 2.5-2.5v-19.5c0-0.448-0.137-1.23-1.319-2.841zM24.543 5.457c0.959 0.959 1.712 1.825 2.268 2.543h-4.811v-4.811c0.718 0.556 1.584 1.309 2.543 2.268zM28 29.5c0 0.271-0.229 0.5-0.5 0.5h-23c-0.271 0-0.5-0.229-0.5-0.5v-27c0-0.271 0.229-0.5 0.5-0.5 0 0 15.499-0 15.5 0v7c0 0.552 0.448 1 1 1h7v19.5z\"></path>\n",
       "<path d=\"M23 26h-14c-0.552 0-1-0.448-1-1s0.448-1 1-1h14c0.552 0 1 0.448 1 1s-0.448 1-1 1z\"></path>\n",
       "<path d=\"M23 22h-14c-0.552 0-1-0.448-1-1s0.448-1 1-1h14c0.552 0 1 0.448 1 1s-0.448 1-1 1z\"></path>\n",
       "<path d=\"M23 18h-14c-0.552 0-1-0.448-1-1s0.448-1 1-1h14c0.552 0 1 0.448 1 1s-0.448 1-1 1z\"></path>\n",
       "</symbol>\n",
       "</defs>\n",
       "</svg>\n",
       "<style>/* CSS stylesheet for displaying xarray objects in jupyterlab.\n",
       " *\n",
       " */\n",
       "\n",
       ":root {\n",
       "  --xr-font-color0: var(--jp-content-font-color0, rgba(0, 0, 0, 1));\n",
       "  --xr-font-color2: var(--jp-content-font-color2, rgba(0, 0, 0, 0.54));\n",
       "  --xr-font-color3: var(--jp-content-font-color3, rgba(0, 0, 0, 0.38));\n",
       "  --xr-border-color: var(--jp-border-color2, #e0e0e0);\n",
       "  --xr-disabled-color: var(--jp-layout-color3, #bdbdbd);\n",
       "  --xr-background-color: var(--jp-layout-color0, white);\n",
       "  --xr-background-color-row-even: var(--jp-layout-color1, white);\n",
       "  --xr-background-color-row-odd: var(--jp-layout-color2, #eeeeee);\n",
       "}\n",
       "\n",
       "html[theme=dark],\n",
       "body[data-theme=dark],\n",
       "body.vscode-dark {\n",
       "  --xr-font-color0: rgba(255, 255, 255, 1);\n",
       "  --xr-font-color2: rgba(255, 255, 255, 0.54);\n",
       "  --xr-font-color3: rgba(255, 255, 255, 0.38);\n",
       "  --xr-border-color: #1F1F1F;\n",
       "  --xr-disabled-color: #515151;\n",
       "  --xr-background-color: #111111;\n",
       "  --xr-background-color-row-even: #111111;\n",
       "  --xr-background-color-row-odd: #313131;\n",
       "}\n",
       "\n",
       ".xr-wrap {\n",
       "  display: block !important;\n",
       "  min-width: 300px;\n",
       "  max-width: 700px;\n",
       "}\n",
       "\n",
       ".xr-text-repr-fallback {\n",
       "  /* fallback to plain text repr when CSS is not injected (untrusted notebook) */\n",
       "  display: none;\n",
       "}\n",
       "\n",
       ".xr-header {\n",
       "  padding-top: 6px;\n",
       "  padding-bottom: 6px;\n",
       "  margin-bottom: 4px;\n",
       "  border-bottom: solid 1px var(--xr-border-color);\n",
       "}\n",
       "\n",
       ".xr-header > div,\n",
       ".xr-header > ul {\n",
       "  display: inline;\n",
       "  margin-top: 0;\n",
       "  margin-bottom: 0;\n",
       "}\n",
       "\n",
       ".xr-obj-type,\n",
       ".xr-array-name {\n",
       "  margin-left: 2px;\n",
       "  margin-right: 10px;\n",
       "}\n",
       "\n",
       ".xr-obj-type {\n",
       "  color: var(--xr-font-color2);\n",
       "}\n",
       "\n",
       ".xr-sections {\n",
       "  padding-left: 0 !important;\n",
       "  display: grid;\n",
       "  grid-template-columns: 150px auto auto 1fr 20px 20px;\n",
       "}\n",
       "\n",
       ".xr-section-item {\n",
       "  display: contents;\n",
       "}\n",
       "\n",
       ".xr-section-item input {\n",
       "  display: none;\n",
       "}\n",
       "\n",
       ".xr-section-item input + label {\n",
       "  color: var(--xr-disabled-color);\n",
       "}\n",
       "\n",
       ".xr-section-item input:enabled + label {\n",
       "  cursor: pointer;\n",
       "  color: var(--xr-font-color2);\n",
       "}\n",
       "\n",
       ".xr-section-item input:enabled + label:hover {\n",
       "  color: var(--xr-font-color0);\n",
       "}\n",
       "\n",
       ".xr-section-summary {\n",
       "  grid-column: 1;\n",
       "  color: var(--xr-font-color2);\n",
       "  font-weight: 500;\n",
       "}\n",
       "\n",
       ".xr-section-summary > span {\n",
       "  display: inline-block;\n",
       "  padding-left: 0.5em;\n",
       "}\n",
       "\n",
       ".xr-section-summary-in:disabled + label {\n",
       "  color: var(--xr-font-color2);\n",
       "}\n",
       "\n",
       ".xr-section-summary-in + label:before {\n",
       "  display: inline-block;\n",
       "  content: '►';\n",
       "  font-size: 11px;\n",
       "  width: 15px;\n",
       "  text-align: center;\n",
       "}\n",
       "\n",
       ".xr-section-summary-in:disabled + label:before {\n",
       "  color: var(--xr-disabled-color);\n",
       "}\n",
       "\n",
       ".xr-section-summary-in:checked + label:before {\n",
       "  content: '▼';\n",
       "}\n",
       "\n",
       ".xr-section-summary-in:checked + label > span {\n",
       "  display: none;\n",
       "}\n",
       "\n",
       ".xr-section-summary,\n",
       ".xr-section-inline-details {\n",
       "  padding-top: 4px;\n",
       "  padding-bottom: 4px;\n",
       "}\n",
       "\n",
       ".xr-section-inline-details {\n",
       "  grid-column: 2 / -1;\n",
       "}\n",
       "\n",
       ".xr-section-details {\n",
       "  display: none;\n",
       "  grid-column: 1 / -1;\n",
       "  margin-bottom: 5px;\n",
       "}\n",
       "\n",
       ".xr-section-summary-in:checked ~ .xr-section-details {\n",
       "  display: contents;\n",
       "}\n",
       "\n",
       ".xr-array-wrap {\n",
       "  grid-column: 1 / -1;\n",
       "  display: grid;\n",
       "  grid-template-columns: 20px auto;\n",
       "}\n",
       "\n",
       ".xr-array-wrap > label {\n",
       "  grid-column: 1;\n",
       "  vertical-align: top;\n",
       "}\n",
       "\n",
       ".xr-preview {\n",
       "  color: var(--xr-font-color3);\n",
       "}\n",
       "\n",
       ".xr-array-preview,\n",
       ".xr-array-data {\n",
       "  padding: 0 5px !important;\n",
       "  grid-column: 2;\n",
       "}\n",
       "\n",
       ".xr-array-data,\n",
       ".xr-array-in:checked ~ .xr-array-preview {\n",
       "  display: none;\n",
       "}\n",
       "\n",
       ".xr-array-in:checked ~ .xr-array-data,\n",
       ".xr-array-preview {\n",
       "  display: inline-block;\n",
       "}\n",
       "\n",
       ".xr-dim-list {\n",
       "  display: inline-block !important;\n",
       "  list-style: none;\n",
       "  padding: 0 !important;\n",
       "  margin: 0;\n",
       "}\n",
       "\n",
       ".xr-dim-list li {\n",
       "  display: inline-block;\n",
       "  padding: 0;\n",
       "  margin: 0;\n",
       "}\n",
       "\n",
       ".xr-dim-list:before {\n",
       "  content: '(';\n",
       "}\n",
       "\n",
       ".xr-dim-list:after {\n",
       "  content: ')';\n",
       "}\n",
       "\n",
       ".xr-dim-list li:not(:last-child):after {\n",
       "  content: ',';\n",
       "  padding-right: 5px;\n",
       "}\n",
       "\n",
       ".xr-has-index {\n",
       "  font-weight: bold;\n",
       "}\n",
       "\n",
       ".xr-var-list,\n",
       ".xr-var-item {\n",
       "  display: contents;\n",
       "}\n",
       "\n",
       ".xr-var-item > div,\n",
       ".xr-var-item label,\n",
       ".xr-var-item > .xr-var-name span {\n",
       "  background-color: var(--xr-background-color-row-even);\n",
       "  margin-bottom: 0;\n",
       "}\n",
       "\n",
       ".xr-var-item > .xr-var-name:hover span {\n",
       "  padding-right: 5px;\n",
       "}\n",
       "\n",
       ".xr-var-list > li:nth-child(odd) > div,\n",
       ".xr-var-list > li:nth-child(odd) > label,\n",
       ".xr-var-list > li:nth-child(odd) > .xr-var-name span {\n",
       "  background-color: var(--xr-background-color-row-odd);\n",
       "}\n",
       "\n",
       ".xr-var-name {\n",
       "  grid-column: 1;\n",
       "}\n",
       "\n",
       ".xr-var-dims {\n",
       "  grid-column: 2;\n",
       "}\n",
       "\n",
       ".xr-var-dtype {\n",
       "  grid-column: 3;\n",
       "  text-align: right;\n",
       "  color: var(--xr-font-color2);\n",
       "}\n",
       "\n",
       ".xr-var-preview {\n",
       "  grid-column: 4;\n",
       "}\n",
       "\n",
       ".xr-index-preview {\n",
       "  grid-column: 2 / 5;\n",
       "  color: var(--xr-font-color2);\n",
       "}\n",
       "\n",
       ".xr-var-name,\n",
       ".xr-var-dims,\n",
       ".xr-var-dtype,\n",
       ".xr-preview,\n",
       ".xr-attrs dt {\n",
       "  white-space: nowrap;\n",
       "  overflow: hidden;\n",
       "  text-overflow: ellipsis;\n",
       "  padding-right: 10px;\n",
       "}\n",
       "\n",
       ".xr-var-name:hover,\n",
       ".xr-var-dims:hover,\n",
       ".xr-var-dtype:hover,\n",
       ".xr-attrs dt:hover {\n",
       "  overflow: visible;\n",
       "  width: auto;\n",
       "  z-index: 1;\n",
       "}\n",
       "\n",
       ".xr-var-attrs,\n",
       ".xr-var-data,\n",
       ".xr-index-data {\n",
       "  display: none;\n",
       "  background-color: var(--xr-background-color) !important;\n",
       "  padding-bottom: 5px !important;\n",
       "}\n",
       "\n",
       ".xr-var-attrs-in:checked ~ .xr-var-attrs,\n",
       ".xr-var-data-in:checked ~ .xr-var-data,\n",
       ".xr-index-data-in:checked ~ .xr-index-data {\n",
       "  display: block;\n",
       "}\n",
       "\n",
       ".xr-var-data > table {\n",
       "  float: right;\n",
       "}\n",
       "\n",
       ".xr-var-name span,\n",
       ".xr-var-data,\n",
       ".xr-index-name div,\n",
       ".xr-index-data,\n",
       ".xr-attrs {\n",
       "  padding-left: 25px !important;\n",
       "}\n",
       "\n",
       ".xr-attrs,\n",
       ".xr-var-attrs,\n",
       ".xr-var-data,\n",
       ".xr-index-data {\n",
       "  grid-column: 1 / -1;\n",
       "}\n",
       "\n",
       "dl.xr-attrs {\n",
       "  padding: 0;\n",
       "  margin: 0;\n",
       "  display: grid;\n",
       "  grid-template-columns: 125px auto;\n",
       "}\n",
       "\n",
       ".xr-attrs dt,\n",
       ".xr-attrs dd {\n",
       "  padding: 0;\n",
       "  margin: 0;\n",
       "  float: left;\n",
       "  padding-right: 10px;\n",
       "  width: auto;\n",
       "}\n",
       "\n",
       ".xr-attrs dt {\n",
       "  font-weight: normal;\n",
       "  grid-column: 1;\n",
       "}\n",
       "\n",
       ".xr-attrs dt:hover span {\n",
       "  display: inline-block;\n",
       "  background: var(--xr-background-color);\n",
       "  padding-right: 10px;\n",
       "}\n",
       "\n",
       ".xr-attrs dd {\n",
       "  grid-column: 2;\n",
       "  white-space: pre-wrap;\n",
       "  word-break: break-all;\n",
       "}\n",
       "\n",
       ".xr-icon-database,\n",
       ".xr-icon-file-text2,\n",
       ".xr-no-icon {\n",
       "  display: inline-block;\n",
       "  vertical-align: middle;\n",
       "  width: 1em;\n",
       "  height: 1.5em !important;\n",
       "  stroke-width: 0;\n",
       "  stroke: currentColor;\n",
       "  fill: currentColor;\n",
       "}\n",
       "</style><pre class='xr-text-repr-fallback'>&lt;xarray.Dataset&gt;\n",
       "Dimensions:         (nsamples: 2246, ny: 256, nx: 256)\n",
       "Dimensions without coordinates: nsamples, ny, nx\n",
       "Data variables:\n",
       "    latitude        (nsamples, ny, nx) float32 ...\n",
       "    longitude       (nsamples, ny, nx) float32 ...\n",
       "    time            (nsamples) datetime64[ns] ...\n",
       "    MRMS_REFC       (nsamples, ny, nx) float32 ...\n",
       "    GOES_ABI_C07    (nsamples, ny, nx) float32 ...\n",
       "    GOES_ABI_C09    (nsamples, ny, nx) float32 ...\n",
       "    GOES_ABI_C13    (nsamples, ny, nx) float32 ...\n",
       "    GOES_GLM_GROUP  (nsamples, ny, nx) float32 ...\n",
       "Attributes: (12/13)\n",
       "    author:             Kyle Hilburn\n",
       "    title:              GREMLIN CONUS2 Dataset\n",
       "    description:        This is the dataset used to train and test the GREMLI...\n",
       "    funding:            GOES-R Program Award NA19OAR4320073\n",
       "    keywords:           GOES-R, GOES-16, ABI, GLM, MRMS, infrared brightness ...\n",
       "    spatial_coverage:   Latitude 29.577 to 48.002 degrees_north, Longitude -1...\n",
       "    ...                 ...\n",
       "    publications:       Hilburn, Kyle A., Imme Ebert-Uphoff, and Steven D. Mi...\n",
       "    department:         Cooperative Institute for Research in the Atmosphere\n",
       "    institution:        Colorado State University\n",
       "    comment:            Samples 0 to 1797 were used for training and samples ...\n",
       "    history:            Created Wed Jun 15 16:05:16 2022\n",
       "    dataset_name:       gremlin_conus2_dataset.nc</pre><div class='xr-wrap' style='display:none'><div class='xr-header'><div class='xr-obj-type'>xarray.Dataset</div></div><ul class='xr-sections'><li class='xr-section-item'><input id='section-5cbe02d1-a197-42dc-a44f-2dcf5635e904' class='xr-section-summary-in' type='checkbox' disabled ><label for='section-5cbe02d1-a197-42dc-a44f-2dcf5635e904' class='xr-section-summary'  title='Expand/collapse section'>Dimensions:</label><div class='xr-section-inline-details'><ul class='xr-dim-list'><li><span>nsamples</span>: 2246</li><li><span>ny</span>: 256</li><li><span>nx</span>: 256</li></ul></div><div class='xr-section-details'></div></li><li class='xr-section-item'><input id='section-1029ea71-3eb6-4d16-8087-d660ac14feb3' class='xr-section-summary-in' type='checkbox' disabled ><label for='section-1029ea71-3eb6-4d16-8087-d660ac14feb3' class='xr-section-summary'  title='Expand/collapse section'>Coordinates: <span>(0)</span></label><div class='xr-section-inline-details'></div><div class='xr-section-details'><ul class='xr-var-list'></ul></div></li><li class='xr-section-item'><input id='section-1f526f58-b19b-4724-8957-017600b67ca2' class='xr-section-summary-in' type='checkbox'  checked><label for='section-1f526f58-b19b-4724-8957-017600b67ca2' class='xr-section-summary' >Data variables: <span>(8)</span></label><div class='xr-section-inline-details'></div><div class='xr-section-details'><ul class='xr-var-list'><li class='xr-var-item'><div class='xr-var-name'><span>latitude</span></div><div class='xr-var-dims'>(nsamples, ny, nx)</div><div class='xr-var-dtype'>float32</div><div class='xr-var-preview xr-preview'>...</div><input id='attrs-022b9392-ea58-48d5-8cb4-344a9bb73b05' class='xr-var-attrs-in' type='checkbox' ><label for='attrs-022b9392-ea58-48d5-8cb4-344a9bb73b05' title='Show/Hide attributes'><svg class='icon xr-icon-file-text2'><use xlink:href='#icon-file-text2'></use></svg></label><input id='data-b2970168-7eec-467d-a335-4fc619425f0c' class='xr-var-data-in' type='checkbox'><label for='data-b2970168-7eec-467d-a335-4fc619425f0c' title='Show/Hide data repr'><svg class='icon xr-icon-database'><use xlink:href='#icon-database'></use></svg></label><div class='xr-var-attrs'><dl class='xr-attrs'><dt><span>units :</span></dt><dd>degree_north</dd><dt><span>standard_name :</span></dt><dd>latitude</dd></dl></div><div class='xr-var-data'><pre>[147193856 values with dtype=float32]</pre></div></li><li class='xr-var-item'><div class='xr-var-name'><span>longitude</span></div><div class='xr-var-dims'>(nsamples, ny, nx)</div><div class='xr-var-dtype'>float32</div><div class='xr-var-preview xr-preview'>...</div><input id='attrs-db980c06-4bae-4c47-aacf-e6651fd423e5' class='xr-var-attrs-in' type='checkbox' ><label for='attrs-db980c06-4bae-4c47-aacf-e6651fd423e5' title='Show/Hide attributes'><svg class='icon xr-icon-file-text2'><use xlink:href='#icon-file-text2'></use></svg></label><input id='data-865d270b-6347-4b33-9d6d-18568768dcfb' class='xr-var-data-in' type='checkbox'><label for='data-865d270b-6347-4b33-9d6d-18568768dcfb' title='Show/Hide data repr'><svg class='icon xr-icon-database'><use xlink:href='#icon-database'></use></svg></label><div class='xr-var-attrs'><dl class='xr-attrs'><dt><span>units :</span></dt><dd>degree_east</dd><dt><span>standard_name :</span></dt><dd>longitude</dd></dl></div><div class='xr-var-data'><pre>[147193856 values with dtype=float32]</pre></div></li><li class='xr-var-item'><div class='xr-var-name'><span>time</span></div><div class='xr-var-dims'>(nsamples)</div><div class='xr-var-dtype'>datetime64[ns]</div><div class='xr-var-preview xr-preview'>...</div><input id='attrs-62cdb6b2-b03c-4ba3-9df0-1ac7bf49bd75' class='xr-var-attrs-in' type='checkbox' disabled><label for='attrs-62cdb6b2-b03c-4ba3-9df0-1ac7bf49bd75' title='Show/Hide attributes'><svg class='icon xr-icon-file-text2'><use xlink:href='#icon-file-text2'></use></svg></label><input id='data-f52631d5-4193-4e48-a15f-83d5fd60cf90' class='xr-var-data-in' type='checkbox'><label for='data-f52631d5-4193-4e48-a15f-83d5fd60cf90' title='Show/Hide data repr'><svg class='icon xr-icon-database'><use xlink:href='#icon-database'></use></svg></label><div class='xr-var-attrs'><dl class='xr-attrs'></dl></div><div class='xr-var-data'><pre>[2246 values with dtype=datetime64[ns]]</pre></div></li><li class='xr-var-item'><div class='xr-var-name'><span>MRMS_REFC</span></div><div class='xr-var-dims'>(nsamples, ny, nx)</div><div class='xr-var-dtype'>float32</div><div class='xr-var-preview xr-preview'>...</div><input id='attrs-fb2fb34d-ebb0-4912-8128-65a5b6825869' class='xr-var-attrs-in' type='checkbox' ><label for='attrs-fb2fb34d-ebb0-4912-8128-65a5b6825869' title='Show/Hide attributes'><svg class='icon xr-icon-file-text2'><use xlink:href='#icon-file-text2'></use></svg></label><input id='data-e641d177-2f26-4984-b208-61a99a36c1fb' class='xr-var-data-in' type='checkbox'><label for='data-e641d177-2f26-4984-b208-61a99a36c1fb' title='Show/Hide data repr'><svg class='icon xr-icon-database'><use xlink:href='#icon-database'></use></svg></label><div class='xr-var-attrs'><dl class='xr-attrs'><dt><span>units :</span></dt><dd>dBZ</dd><dt><span>standard_name :</span></dt><dd>equivalent_reflectivity_factor</dd><dt><span>long_name :</span></dt><dd>MergedReflectivityQCComposite</dd></dl></div><div class='xr-var-data'><pre>[147193856 values with dtype=float32]</pre></div></li><li class='xr-var-item'><div class='xr-var-name'><span>GOES_ABI_C07</span></div><div class='xr-var-dims'>(nsamples, ny, nx)</div><div class='xr-var-dtype'>float32</div><div class='xr-var-preview xr-preview'>...</div><input id='attrs-55f091bc-ffb5-4bdc-ab95-f2b5322ea379' class='xr-var-attrs-in' type='checkbox' ><label for='attrs-55f091bc-ffb5-4bdc-ab95-f2b5322ea379' title='Show/Hide attributes'><svg class='icon xr-icon-file-text2'><use xlink:href='#icon-file-text2'></use></svg></label><input id='data-cd3120ff-feb5-4d36-809c-efdcdf98948e' class='xr-var-data-in' type='checkbox'><label for='data-cd3120ff-feb5-4d36-809c-efdcdf98948e' title='Show/Hide data repr'><svg class='icon xr-icon-database'><use xlink:href='#icon-database'></use></svg></label><div class='xr-var-attrs'><dl class='xr-attrs'><dt><span>units :</span></dt><dd>K</dd><dt><span>standard_name :</span></dt><dd>brightness_temperature</dd><dt><span>long_name :</span></dt><dd>C07_brightness_temperature</dd></dl></div><div class='xr-var-data'><pre>[147193856 values with dtype=float32]</pre></div></li><li class='xr-var-item'><div class='xr-var-name'><span>GOES_ABI_C09</span></div><div class='xr-var-dims'>(nsamples, ny, nx)</div><div class='xr-var-dtype'>float32</div><div class='xr-var-preview xr-preview'>...</div><input id='attrs-706057c1-c9a5-401d-a23c-ce693cd45341' class='xr-var-attrs-in' type='checkbox' ><label for='attrs-706057c1-c9a5-401d-a23c-ce693cd45341' title='Show/Hide attributes'><svg class='icon xr-icon-file-text2'><use xlink:href='#icon-file-text2'></use></svg></label><input id='data-9c77d286-9ed1-4956-9906-fd99e36b4d5f' class='xr-var-data-in' type='checkbox'><label for='data-9c77d286-9ed1-4956-9906-fd99e36b4d5f' title='Show/Hide data repr'><svg class='icon xr-icon-database'><use xlink:href='#icon-database'></use></svg></label><div class='xr-var-attrs'><dl class='xr-attrs'><dt><span>units :</span></dt><dd>K</dd><dt><span>standard_name :</span></dt><dd>brightness_temperature</dd><dt><span>long_name :</span></dt><dd>C09_brightness_temperature</dd></dl></div><div class='xr-var-data'><pre>[147193856 values with dtype=float32]</pre></div></li><li class='xr-var-item'><div class='xr-var-name'><span>GOES_ABI_C13</span></div><div class='xr-var-dims'>(nsamples, ny, nx)</div><div class='xr-var-dtype'>float32</div><div class='xr-var-preview xr-preview'>...</div><input id='attrs-c823198e-62a2-47ca-b355-7dc6daadefd7' class='xr-var-attrs-in' type='checkbox' ><label for='attrs-c823198e-62a2-47ca-b355-7dc6daadefd7' title='Show/Hide attributes'><svg class='icon xr-icon-file-text2'><use xlink:href='#icon-file-text2'></use></svg></label><input id='data-5285c02a-7a0d-47cf-8369-e7c3f74ec268' class='xr-var-data-in' type='checkbox'><label for='data-5285c02a-7a0d-47cf-8369-e7c3f74ec268' title='Show/Hide data repr'><svg class='icon xr-icon-database'><use xlink:href='#icon-database'></use></svg></label><div class='xr-var-attrs'><dl class='xr-attrs'><dt><span>units :</span></dt><dd>K</dd><dt><span>standard_name :</span></dt><dd>brightness_temperature</dd><dt><span>long_name :</span></dt><dd>C13_brightness_temperature</dd></dl></div><div class='xr-var-data'><pre>[147193856 values with dtype=float32]</pre></div></li><li class='xr-var-item'><div class='xr-var-name'><span>GOES_GLM_GROUP</span></div><div class='xr-var-dims'>(nsamples, ny, nx)</div><div class='xr-var-dtype'>float32</div><div class='xr-var-preview xr-preview'>...</div><input id='attrs-16afe562-5dcf-4706-b703-03c6059d011b' class='xr-var-attrs-in' type='checkbox' ><label for='attrs-16afe562-5dcf-4706-b703-03c6059d011b' title='Show/Hide attributes'><svg class='icon xr-icon-file-text2'><use xlink:href='#icon-file-text2'></use></svg></label><input id='data-7baa8d34-cde7-4cd6-8afe-fce5b56f05af' class='xr-var-data-in' type='checkbox'><label for='data-7baa8d34-cde7-4cd6-8afe-fce5b56f05af' title='Show/Hide data repr'><svg class='icon xr-icon-database'><use xlink:href='#icon-database'></use></svg></label><div class='xr-var-attrs'><dl class='xr-attrs'><dt><span>units :</span></dt><dd>groups/5-minutes/km^2</dd><dt><span>long_name :</span></dt><dd>lighting_group_extent_density</dd></dl></div><div class='xr-var-data'><pre>[147193856 values with dtype=float32]</pre></div></li></ul></div></li><li class='xr-section-item'><input id='section-b22fc1f3-7244-4b3a-b9ec-1cdacd79f2ef' class='xr-section-summary-in' type='checkbox' disabled ><label for='section-b22fc1f3-7244-4b3a-b9ec-1cdacd79f2ef' class='xr-section-summary'  title='Expand/collapse section'>Indexes: <span>(0)</span></label><div class='xr-section-inline-details'></div><div class='xr-section-details'><ul class='xr-var-list'></ul></div></li><li class='xr-section-item'><input id='section-9136d4da-6235-46dc-b521-e050b41fde6a' class='xr-section-summary-in' type='checkbox'  ><label for='section-9136d4da-6235-46dc-b521-e050b41fde6a' class='xr-section-summary' >Attributes: <span>(13)</span></label><div class='xr-section-inline-details'></div><div class='xr-section-details'><dl class='xr-attrs'><dt><span>author :</span></dt><dd>Kyle Hilburn</dd><dt><span>title :</span></dt><dd>GREMLIN CONUS2 Dataset</dd><dt><span>description :</span></dt><dd>This is the dataset used to train and test the GREMLIN Version-1 model in Hilburn et al. (2021). It consists of  GOES-16 ABI, GOES-16 GLM, and MRMS data resampled to the 3 km HRRR grid and matched in time. The samples consist of 256 x 256 pixel images covering severe storms for 6-hour periods with 15-minute refresh over a 92 day period.</dd><dt><span>funding :</span></dt><dd>GOES-R Program Award NA19OAR4320073</dd><dt><span>keywords :</span></dt><dd>GOES-R, GOES-16, ABI, GLM, MRMS, infrared brightness temperature, lightning, radar reflectivity, machine learning, GREMLIN</dd><dt><span>spatial_coverage :</span></dt><dd>Latitude 29.577 to 48.002 degrees_north, Longitude -106.766 to -75.184 degrees_east</dd><dt><span>temporal_coverage :</span></dt><dd>2019-04-18T00:00Z to 2019-07-18T01:00Z</dd><dt><span>publications :</span></dt><dd>Hilburn, Kyle A., Imme Ebert-Uphoff, and Steven D. Miller. &quot;Development and Interpretation of a Neural-Network-Based Synthetic Radar Reflectivity Estimator Using GOES-R Satellite Observations&quot;, Journal of Applied Meteorology and Climatology 60, 1 (2021): 3-21, https://doi.org/10.1175/JAMC-D-20-0084.1</dd><dt><span>department :</span></dt><dd>Cooperative Institute for Research in the Atmosphere</dd><dt><span>institution :</span></dt><dd>Colorado State University</dd><dt><span>comment :</span></dt><dd>Samples 0 to 1797 were used for training and samples 1798 to 2245 were used for testing</dd><dt><span>history :</span></dt><dd>Created Wed Jun 15 16:05:16 2022</dd><dt><span>dataset_name :</span></dt><dd>gremlin_conus2_dataset.nc</dd></dl></div></li></ul></div></div>"
      ],
      "text/plain": [
       "<xarray.Dataset>\n",
       "Dimensions:         (nsamples: 2246, ny: 256, nx: 256)\n",
       "Dimensions without coordinates: nsamples, ny, nx\n",
       "Data variables:\n",
       "    latitude        (nsamples, ny, nx) float32 ...\n",
       "    longitude       (nsamples, ny, nx) float32 ...\n",
       "    time            (nsamples) datetime64[ns] ...\n",
       "    MRMS_REFC       (nsamples, ny, nx) float32 ...\n",
       "    GOES_ABI_C07    (nsamples, ny, nx) float32 ...\n",
       "    GOES_ABI_C09    (nsamples, ny, nx) float32 ...\n",
       "    GOES_ABI_C13    (nsamples, ny, nx) float32 ...\n",
       "    GOES_GLM_GROUP  (nsamples, ny, nx) float32 ...\n",
       "Attributes: (12/13)\n",
       "    author:             Kyle Hilburn\n",
       "    title:              GREMLIN CONUS2 Dataset\n",
       "    description:        This is the dataset used to train and test the GREMLI...\n",
       "    funding:            GOES-R Program Award NA19OAR4320073\n",
       "    keywords:           GOES-R, GOES-16, ABI, GLM, MRMS, infrared brightness ...\n",
       "    spatial_coverage:   Latitude 29.577 to 48.002 degrees_north, Longitude -1...\n",
       "    ...                 ...\n",
       "    publications:       Hilburn, Kyle A., Imme Ebert-Uphoff, and Steven D. Mi...\n",
       "    department:         Cooperative Institute for Research in the Atmosphere\n",
       "    institution:        Colorado State University\n",
       "    comment:            Samples 0 to 1797 were used for training and samples ...\n",
       "    history:            Created Wed Jun 15 16:05:16 2022\n",
       "    dataset_name:       gremlin_conus2_dataset.nc"
      ]
     },
     "execution_count": 5,
     "metadata": {},
     "output_type": "execute_result"
    }
   ],
   "source": [
    "ds"
   ]
  },
  {
   "cell_type": "markdown",
   "id": "e36defee-3872-4140-88d5-f139a2da32fb",
   "metadata": {},
   "source": [
    "While this dataset loads in fine, one of the issues with it is the lack of coordinates. Lets try and fix that. Little explainer on the different terminology: https://docs.xarray.dev/en/stable/user-guide/terminology.html"
   ]
  },
  {
   "cell_type": "markdown",
   "id": "9823b40b-986b-4d5d-afb9-96b7f4eeafba",
   "metadata": {},
   "source": [
    "# Let's make some coordiantes"
   ]
  },
  {
   "cell_type": "markdown",
   "id": "db40ac25-2708-434e-ab0c-1871b47aefe9",
   "metadata": {},
   "source": [
    "For the 0th time step, lets check out the shape:"
   ]
  },
  {
   "cell_type": "code",
   "execution_count": 6,
   "id": "06346a93-b9f3-43da-a696-1fb86f42697c",
   "metadata": {},
   "outputs": [
    {
     "data": {
      "text/plain": [
       "(256, 256)"
      ]
     },
     "execution_count": 6,
     "metadata": {},
     "output_type": "execute_result"
    }
   ],
   "source": [
    "np.shape(ds.latitude.data[0])"
   ]
  },
  {
   "cell_type": "markdown",
   "id": "082b8b1b-2eba-4c78-acfd-9c29fdf4b839",
   "metadata": {},
   "source": [
    "Wonder if the data just repeats? Or is different for every slice"
   ]
  },
  {
   "cell_type": "code",
   "execution_count": 7,
   "id": "02fc779a-d3cf-4115-a5bb-24bddffa764e",
   "metadata": {},
   "outputs": [
    {
     "data": {
      "text/plain": [
       "Text(0.5, 1.0, 'Longitude')"
      ]
     },
     "execution_count": 7,
     "metadata": {},
     "output_type": "execute_result"
    },
    {
     "data": {
      "image/png": "[encoded data removed]",
      "text/plain": [
       "<Figure size 640x480 with 2 Axes>"
      ]
     },
     "metadata": {},
     "output_type": "display_data"
    }
   ],
   "source": [
    "f, (ax1, ax2) = plt.subplots(1, 2, sharey=True)\n",
    "\n",
    "ax1.imshow(ds.latitude.data[2].data)\n",
    "ax1.set_title('Latitude')\n",
    "\n",
    "yo = ax2.imshow(ds.longitude.data[0].data)\n",
    "ax2.set_title('Longitude')"
   ]
  },
  {
   "cell_type": "code",
   "execution_count": 8,
   "id": "1a7eb439-c70d-47af-96f5-3b3b932819ba",
   "metadata": {},
   "outputs": [
    {
     "data": {
      "text/plain": [
       "array([[30.3, 30.3, 30.3, ..., 29.7, 29.7, 29.7],\n",
       "       [30.4, 30.4, 30.4, ..., 29.7, 29.7, 29.7],\n",
       "       [30.4, 30.4, 30.4, ..., 29.8, 29.7, 29.7],\n",
       "       ...,\n",
       "       [37.1, 37.1, 37.1, ..., 36.4, 36.4, 36.4],\n",
       "       [37.1, 37.1, 37.1, ..., 36.5, 36.4, 36.4],\n",
       "       [37.2, 37.2, 37.2, ..., 36.5, 36.5, 36.5]], dtype=float32)"
      ]
     },
     "execution_count": 8,
     "metadata": {},
     "output_type": "execute_result"
    }
   ],
   "source": [
    "np.round(ds.latitude.data[10],1)"
   ]
  },
  {
   "cell_type": "code",
   "execution_count": 9,
   "id": "7b49ed9b-5bdd-45f3-b822-cad7558bb36c",
   "metadata": {},
   "outputs": [
    {
     "data": {
      "text/plain": [
       "array([[34.6, 34.6, 34.5, ..., 33.5, 33.5, 33.5],\n",
       "       [34.6, 34.6, 34.6, ..., 33.5, 33.5, 33.5],\n",
       "       [34.6, 34.6, 34.6, ..., 33.6, 33.6, 33.5],\n",
       "       ...,\n",
       "       [41.3, 41.3, 41.3, ..., 40.2, 40.2, 40.2],\n",
       "       [41.4, 41.4, 41.4, ..., 40.2, 40.2, 40.2],\n",
       "       [41.4, 41.4, 41.4, ..., 40.2, 40.2, 40.2]], dtype=float32)"
      ]
     },
     "execution_count": 9,
     "metadata": {},
     "output_type": "execute_result"
    }
   ],
   "source": [
    "np.round(ds.latitude.data[60],1)"
   ]
  },
  {
   "cell_type": "markdown",
   "id": "7fc482f9-5278-46ae-81f9-f42922a9e8b0",
   "metadata": {},
   "source": [
    "From a quick visiual, looks like the latitude changes, but not every step. Feel free to adjust the number above, or to longitude to double check!"
   ]
  },
  {
   "cell_type": "code",
   "execution_count": 10,
   "id": "58f64c14-3913-4301-af58-fbabc8492e6b",
   "metadata": {},
   "outputs": [
    {
     "data": {
      "text/plain": [
       "[<matplotlib.lines.Line2D at 0x7f1ba2601b20>]"
      ]
     },
     "execution_count": 10,
     "metadata": {},
     "output_type": "execute_result"
    },
    {
     "data": {
      "image/png": "[encoded data removed]",
      "text/plain": [
       "<Figure size 640x480 with 1 Axes>"
      ]
     },
     "metadata": {},
     "output_type": "display_data"
    }
   ],
   "source": [
    "plt.plot(ds.longitude.data[0][0])\n",
    "plt.plot(ds.longitude.data[0,:,0])"
   ]
  },
  {
   "cell_type": "markdown",
   "id": "b318d963-e08e-43f9-9363-0bd0edc2eb45",
   "metadata": {},
   "source": [
    "What is the difference beween these two plots?"
   ]
  },
  {
   "cell_type": "code",
   "execution_count": null,
   "id": "df90d42a-9f09-469c-be4e-bf5c300ebd79",
   "metadata": {},
   "outputs": [],
   "source": []
  }
 ],
 "metadata": {
  "kernelspec": {
   "display_name": "Python 3 (ipykernel)",
   "language": "python",
   "name": "python3"
  },
  "language_info": {
   "codemirror_mode": {
    "name": "ipython",
    "version": 3
   },
   "file_extension": ".py",
   "mimetype": "text/x-python",
   "name": "python",
   "nbconvert_exporter": "python",
   "pygments_lexer": "ipython3",
   "version": "3.8.10"
  }
 },
 "nbformat": 4,
 "nbformat_minor": 5
}
